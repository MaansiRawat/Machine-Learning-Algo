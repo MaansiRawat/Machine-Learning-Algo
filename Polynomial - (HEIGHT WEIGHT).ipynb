{
 "cells": [
  {
   "cell_type": "code",
   "execution_count": 1,
   "id": "22bd7bfe",
   "metadata": {},
   "outputs": [],
   "source": [
    "import pandas as pd \n",
    "import numpy as np\n",
    "import matplotlib.pyplot as plt"
   ]
  },
  {
   "cell_type": "code",
   "execution_count": 3,
   "id": "d734725b",
   "metadata": {},
   "outputs": [
    {
     "data": {
      "text/html": [
       "<div>\n",
       "<style scoped>\n",
       "    .dataframe tbody tr th:only-of-type {\n",
       "        vertical-align: middle;\n",
       "    }\n",
       "\n",
       "    .dataframe tbody tr th {\n",
       "        vertical-align: top;\n",
       "    }\n",
       "\n",
       "    .dataframe thead th {\n",
       "        text-align: right;\n",
       "    }\n",
       "</style>\n",
       "<table border=\"1\" class=\"dataframe\">\n",
       "  <thead>\n",
       "    <tr style=\"text-align: right;\">\n",
       "      <th></th>\n",
       "      <th>Age</th>\n",
       "      <th>Height</th>\n",
       "    </tr>\n",
       "  </thead>\n",
       "  <tbody>\n",
       "    <tr>\n",
       "      <th>0</th>\n",
       "      <td>10</td>\n",
       "      <td>138</td>\n",
       "    </tr>\n",
       "    <tr>\n",
       "      <th>1</th>\n",
       "      <td>11</td>\n",
       "      <td>138</td>\n",
       "    </tr>\n",
       "    <tr>\n",
       "      <th>2</th>\n",
       "      <td>12</td>\n",
       "      <td>138</td>\n",
       "    </tr>\n",
       "    <tr>\n",
       "      <th>3</th>\n",
       "      <td>13</td>\n",
       "      <td>139</td>\n",
       "    </tr>\n",
       "    <tr>\n",
       "      <th>4</th>\n",
       "      <td>14</td>\n",
       "      <td>139</td>\n",
       "    </tr>\n",
       "    <tr>\n",
       "      <th>...</th>\n",
       "      <td>...</td>\n",
       "      <td>...</td>\n",
       "    </tr>\n",
       "    <tr>\n",
       "      <th>66</th>\n",
       "      <td>76</td>\n",
       "      <td>204</td>\n",
       "    </tr>\n",
       "    <tr>\n",
       "      <th>67</th>\n",
       "      <td>77</td>\n",
       "      <td>205</td>\n",
       "    </tr>\n",
       "    <tr>\n",
       "      <th>68</th>\n",
       "      <td>78</td>\n",
       "      <td>206</td>\n",
       "    </tr>\n",
       "    <tr>\n",
       "      <th>69</th>\n",
       "      <td>79</td>\n",
       "      <td>207</td>\n",
       "    </tr>\n",
       "    <tr>\n",
       "      <th>70</th>\n",
       "      <td>80</td>\n",
       "      <td>208</td>\n",
       "    </tr>\n",
       "  </tbody>\n",
       "</table>\n",
       "<p>71 rows × 2 columns</p>\n",
       "</div>"
      ],
      "text/plain": [
       "    Age  Height\n",
       "0    10     138\n",
       "1    11     138\n",
       "2    12     138\n",
       "3    13     139\n",
       "4    14     139\n",
       "..  ...     ...\n",
       "66   76     204\n",
       "67   77     205\n",
       "68   78     206\n",
       "69   79     207\n",
       "70   80     208\n",
       "\n",
       "[71 rows x 2 columns]"
      ]
     },
     "execution_count": 3,
     "metadata": {},
     "output_type": "execute_result"
    }
   ],
   "source": [
    "df=pd.read_excel('Height_Weight_Dataset.xlsx')\n",
    "df"
   ]
  },
  {
   "cell_type": "code",
   "execution_count": 10,
   "id": "8b2631ad",
   "metadata": {},
   "outputs": [
    {
     "data": {
      "text/plain": [
       "array([[10],\n",
       "       [11],\n",
       "       [12],\n",
       "       [13],\n",
       "       [14],\n",
       "       [15],\n",
       "       [16],\n",
       "       [17],\n",
       "       [18],\n",
       "       [19],\n",
       "       [20],\n",
       "       [21],\n",
       "       [22],\n",
       "       [23],\n",
       "       [24],\n",
       "       [25],\n",
       "       [26],\n",
       "       [27],\n",
       "       [28],\n",
       "       [29],\n",
       "       [30],\n",
       "       [31],\n",
       "       [32],\n",
       "       [33],\n",
       "       [34],\n",
       "       [35],\n",
       "       [36],\n",
       "       [37],\n",
       "       [38],\n",
       "       [39],\n",
       "       [40],\n",
       "       [41],\n",
       "       [42],\n",
       "       [43],\n",
       "       [44],\n",
       "       [45],\n",
       "       [46],\n",
       "       [47],\n",
       "       [48],\n",
       "       [49],\n",
       "       [50],\n",
       "       [51],\n",
       "       [52],\n",
       "       [53],\n",
       "       [54],\n",
       "       [55],\n",
       "       [56],\n",
       "       [57],\n",
       "       [58],\n",
       "       [59],\n",
       "       [60],\n",
       "       [61],\n",
       "       [62],\n",
       "       [63],\n",
       "       [64],\n",
       "       [65],\n",
       "       [66],\n",
       "       [67],\n",
       "       [68],\n",
       "       [69],\n",
       "       [70],\n",
       "       [71],\n",
       "       [72],\n",
       "       [73],\n",
       "       [74],\n",
       "       [75],\n",
       "       [76],\n",
       "       [77],\n",
       "       [78],\n",
       "       [79],\n",
       "       [80]], dtype=int64)"
      ]
     },
     "execution_count": 10,
     "metadata": {},
     "output_type": "execute_result"
    }
   ],
   "source": [
    "x=df.iloc[:,:1].values\n",
    "x"
   ]
  },
  {
   "cell_type": "code",
   "execution_count": 9,
   "id": "a8ef1803",
   "metadata": {},
   "outputs": [
    {
     "data": {
      "text/plain": [
       "array([138, 138, 138, 139, 139, 139, 140, 140, 140, 141, 141, 141, 142,\n",
       "       142, 142, 143, 143, 143, 144, 144, 145, 145, 146, 146, 147, 147,\n",
       "       148, 148, 149, 149, 150, 150, 151, 152, 153, 154, 155, 156, 157,\n",
       "       158, 159, 160, 161, 162, 163, 164, 165, 166, 167, 168, 169, 170,\n",
       "       171, 172, 173, 175, 178, 180, 183, 185, 188, 190, 193, 195, 199,\n",
       "       203, 204, 205, 206, 207, 208], dtype=int64)"
      ]
     },
     "execution_count": 9,
     "metadata": {},
     "output_type": "execute_result"
    }
   ],
   "source": [
    "y=df.iloc[:,-1].values\n",
    "y"
   ]
  },
  {
   "cell_type": "markdown",
   "id": "6440dbb9",
   "metadata": {},
   "source": [
    "## With Linear Reg: "
   ]
  },
  {
   "cell_type": "code",
   "execution_count": 11,
   "id": "05e99e5e",
   "metadata": {},
   "outputs": [],
   "source": [
    "from sklearn.linear_model import LinearRegression"
   ]
  },
  {
   "cell_type": "code",
   "execution_count": 12,
   "id": "9d9b71c5",
   "metadata": {},
   "outputs": [
    {
     "data": {
      "text/plain": [
       "LinearRegression()"
      ]
     },
     "execution_count": 12,
     "metadata": {},
     "output_type": "execute_result"
    }
   ],
   "source": [
    "L=LinearRegression()\n",
    "L.fit(x,y)"
   ]
  },
  {
   "cell_type": "code",
   "execution_count": 13,
   "id": "9115c3ab",
   "metadata": {},
   "outputs": [
    {
     "data": {
      "image/png": "[encoded data removed]",
      "text/plain": [
       "<Figure size 640x480 with 1 Axes>"
      ]
     },
     "metadata": {},
     "output_type": "display_data"
    }
   ],
   "source": [
    "plt.scatter(x,y,color='green')\n",
    "plt.plot(x,L.predict(x),color='blue')\n",
    "plt.title('Linear Model')\n",
    "plt.xlabel('Age')\n",
    "plt.ylabel('Height')\n",
    "plt.show()"
   ]
  },
  {
   "cell_type": "markdown",
   "id": "9af4528b",
   "metadata": {},
   "source": [
    "## With Polynomial Reg: "
   ]
  },
  {
   "cell_type": "code",
   "execution_count": 14,
   "id": "c31cb568",
   "metadata": {},
   "outputs": [],
   "source": [
    "from sklearn.preprocessing import PolynomialFeatures"
   ]
  },
  {
   "cell_type": "code",
   "execution_count": 58,
   "id": "c651132f",
   "metadata": {},
   "outputs": [
    {
     "data": {
      "text/plain": [
       "array([[1.00000000e+00, 1.00000000e+01, 1.00000000e+02, 1.00000000e+03,\n",
       "        1.00000000e+04, 1.00000000e+05, 1.00000000e+06, 1.00000000e+07,\n",
       "        1.00000000e+08, 1.00000000e+09, 1.00000000e+10],\n",
       "       [1.00000000e+00, 1.10000000e+01, 1.21000000e+02, 1.33100000e+03,\n",
       "        1.46410000e+04, 1.61051000e+05, 1.77156100e+06, 1.94871710e+07,\n",
       "        2.14358881e+08, 2.35794769e+09, 2.59374246e+10],\n",
       "       [1.00000000e+00, 1.20000000e+01, 1.44000000e+02, 1.72800000e+03,\n",
       "        2.07360000e+04, 2.48832000e+05, 2.98598400e+06, 3.58318080e+07,\n",
       "        4.29981696e+08, 5.15978035e+09, 6.19173642e+10],\n",
       "       [1.00000000e+00, 1.30000000e+01, 1.69000000e+02, 2.19700000e+03,\n",
       "        2.85610000e+04, 3.71293000e+05, 4.82680900e+06, 6.27485170e+07,\n",
       "        8.15730721e+08, 1.06044994e+10, 1.37858492e+11],\n",
       "       [1.00000000e+00, 1.40000000e+01, 1.96000000e+02, 2.74400000e+03,\n",
       "        3.84160000e+04, 5.37824000e+05, 7.52953600e+06, 1.05413504e+08,\n",
       "        1.47578906e+09, 2.06610468e+10, 2.89254655e+11],\n",
       "       [1.00000000e+00, 1.50000000e+01, 2.25000000e+02, 3.37500000e+03,\n",
       "        5.06250000e+04, 7.59375000e+05, 1.13906250e+07, 1.70859375e+08,\n",
       "        2.56289062e+09, 3.84433594e+10, 5.76650391e+11],\n",
       "       [1.00000000e+00, 1.60000000e+01, 2.56000000e+02, 4.09600000e+03,\n",
       "        6.55360000e+04, 1.04857600e+06, 1.67772160e+07, 2.68435456e+08,\n",
       "        4.29496730e+09, 6.87194767e+10, 1.09951163e+12],\n",
       "       [1.00000000e+00, 1.70000000e+01, 2.89000000e+02, 4.91300000e+03,\n",
       "        8.35210000e+04, 1.41985700e+06, 2.41375690e+07, 4.10338673e+08,\n",
       "        6.97575744e+09, 1.18587876e+11, 2.01599390e+12],\n",
       "       [1.00000000e+00, 1.80000000e+01, 3.24000000e+02, 5.83200000e+03,\n",
       "        1.04976000e+05, 1.88956800e+06, 3.40122240e+07, 6.12220032e+08,\n",
       "        1.10199606e+10, 1.98359290e+11, 3.57046723e+12],\n",
       "       [1.00000000e+00, 1.90000000e+01, 3.61000000e+02, 6.85900000e+03,\n",
       "        1.30321000e+05, 2.47609900e+06, 4.70458810e+07, 8.93871739e+08,\n",
       "        1.69835630e+10, 3.22687698e+11, 6.13106626e+12],\n",
       "       [1.00000000e+00, 2.00000000e+01, 4.00000000e+02, 8.00000000e+03,\n",
       "        1.60000000e+05, 3.20000000e+06, 6.40000000e+07, 1.28000000e+09,\n",
       "        2.56000000e+10, 5.12000000e+11, 1.02400000e+13],\n",
       "       [1.00000000e+00, 2.10000000e+01, 4.41000000e+02, 9.26100000e+03,\n",
       "        1.94481000e+05, 4.08410100e+06, 8.57661210e+07, 1.80108854e+09,\n",
       "        3.78228594e+10, 7.94280047e+11, 1.66798810e+13],\n",
       "       [1.00000000e+00, 2.20000000e+01, 4.84000000e+02, 1.06480000e+04,\n",
       "        2.34256000e+05, 5.15363200e+06, 1.13379904e+08, 2.49435789e+09,\n",
       "        5.48758735e+10, 1.20726922e+12, 2.65599228e+13],\n",
       "       [1.00000000e+00, 2.30000000e+01, 5.29000000e+02, 1.21670000e+04,\n",
       "        2.79841000e+05, 6.43634300e+06, 1.48035889e+08, 3.40482545e+09,\n",
       "        7.83109853e+10, 1.80115266e+12, 4.14265112e+13],\n",
       "       [1.00000000e+00, 2.40000000e+01, 5.76000000e+02, 1.38240000e+04,\n",
       "        3.31776000e+05, 7.96262400e+06, 1.91102976e+08, 4.58647142e+09,\n",
       "        1.10075314e+11, 2.64180754e+12, 6.34033810e+13],\n",
       "       [1.00000000e+00, 2.50000000e+01, 6.25000000e+02, 1.56250000e+04,\n",
       "        3.90625000e+05, 9.76562500e+06, 2.44140625e+08, 6.10351562e+09,\n",
       "        1.52587891e+11, 3.81469727e+12, 9.53674316e+13],\n",
       "       [1.00000000e+00, 2.60000000e+01, 6.76000000e+02, 1.75760000e+04,\n",
       "        4.56976000e+05, 1.18813760e+07, 3.08915776e+08, 8.03181018e+09,\n",
       "        2.08827065e+11, 5.42950368e+12, 1.41167096e+14],\n",
       "       [1.00000000e+00, 2.70000000e+01, 7.29000000e+02, 1.96830000e+04,\n",
       "        5.31441000e+05, 1.43489070e+07, 3.87420489e+08, 1.04603532e+10,\n",
       "        2.82429536e+11, 7.62559748e+12, 2.05891132e+14],\n",
       "       [1.00000000e+00, 2.80000000e+01, 7.84000000e+02, 2.19520000e+04,\n",
       "        6.14656000e+05, 1.72103680e+07, 4.81890304e+08, 1.34929285e+10,\n",
       "        3.77801998e+11, 1.05784560e+13, 2.96196767e+14],\n",
       "       [1.00000000e+00, 2.90000000e+01, 8.41000000e+02, 2.43890000e+04,\n",
       "        7.07281000e+05, 2.05111490e+07, 5.94823321e+08, 1.72498763e+10,\n",
       "        5.00246413e+11, 1.45071460e+13, 4.20707233e+14],\n",
       "       [1.00000000e+00, 3.00000000e+01, 9.00000000e+02, 2.70000000e+04,\n",
       "        8.10000000e+05, 2.43000000e+07, 7.29000000e+08, 2.18700000e+10,\n",
       "        6.56100000e+11, 1.96830000e+13, 5.90490000e+14],\n",
       "       [1.00000000e+00, 3.10000000e+01, 9.61000000e+02, 2.97910000e+04,\n",
       "        9.23521000e+05, 2.86291510e+07, 8.87503681e+08, 2.75126141e+10,\n",
       "        8.52891037e+11, 2.64396222e+13, 8.19628287e+14],\n",
       "       [1.00000000e+00, 3.20000000e+01, 1.02400000e+03, 3.27680000e+04,\n",
       "        1.04857600e+06, 3.35544320e+07, 1.07374182e+09, 3.43597384e+10,\n",
       "        1.09951163e+12, 3.51843721e+13, 1.12589991e+15],\n",
       "       [1.00000000e+00, 3.30000000e+01, 1.08900000e+03, 3.59370000e+04,\n",
       "        1.18592100e+06, 3.91353930e+07, 1.29146797e+09, 4.26184430e+10,\n",
       "        1.40640862e+12, 4.64114844e+13, 1.53157899e+15],\n",
       "       [1.00000000e+00, 3.40000000e+01, 1.15600000e+03, 3.93040000e+04,\n",
       "        1.33633600e+06, 4.54354240e+07, 1.54480442e+09, 5.25233501e+10,\n",
       "        1.78579390e+12, 6.07169928e+13, 2.06437775e+15],\n",
       "       [1.00000000e+00, 3.50000000e+01, 1.22500000e+03, 4.28750000e+04,\n",
       "        1.50062500e+06, 5.25218750e+07, 1.83826562e+09, 6.43392969e+10,\n",
       "        2.25187539e+12, 7.88156387e+13, 2.75854735e+15],\n",
       "       [1.00000000e+00, 3.60000000e+01, 1.29600000e+03, 4.66560000e+04,\n",
       "        1.67961600e+06, 6.04661760e+07, 2.17678234e+09, 7.83641641e+10,\n",
       "        2.82110991e+12, 1.01559957e+14, 3.65615844e+15],\n",
       "       [1.00000000e+00, 3.70000000e+01, 1.36900000e+03, 5.06530000e+04,\n",
       "        1.87416100e+06, 6.93439570e+07, 2.56572641e+09, 9.49318771e+10,\n",
       "        3.51247945e+12, 1.29961740e+14, 4.80858437e+15],\n",
       "       [1.00000000e+00, 3.80000000e+01, 1.44400000e+03, 5.48720000e+04,\n",
       "        2.08513600e+06, 7.92351680e+07, 3.01093638e+09, 1.14415583e+11,\n",
       "        4.34779214e+12, 1.65216101e+14, 6.27821185e+15],\n",
       "       [1.00000000e+00, 3.90000000e+01, 1.52100000e+03, 5.93190000e+04,\n",
       "        2.31344100e+06, 9.02241990e+07, 3.51874376e+09, 1.37231007e+11,\n",
       "        5.35200926e+12, 2.08728361e+14, 8.14040609e+15],\n",
       "       [1.00000000e+00, 4.00000000e+01, 1.60000000e+03, 6.40000000e+04,\n",
       "        2.56000000e+06, 1.02400000e+08, 4.09600000e+09, 1.63840000e+11,\n",
       "        6.55360000e+12, 2.62144000e+14, 1.04857600e+16],\n",
       "       [1.00000000e+00, 4.10000000e+01, 1.68100000e+03, 6.89210000e+04,\n",
       "        2.82576100e+06, 1.15856201e+08, 4.75010424e+09, 1.94754274e+11,\n",
       "        7.98492523e+12, 3.27381934e+14, 1.34226593e+16],\n",
       "       [1.00000000e+00, 4.20000000e+01, 1.76400000e+03, 7.40880000e+04,\n",
       "        3.11169600e+06, 1.30691232e+08, 5.48903174e+09, 2.30539333e+11,\n",
       "        9.68265200e+12, 4.06671384e+14, 1.70801981e+16],\n",
       "       [1.00000000e+00, 4.30000000e+01, 1.84900000e+03, 7.95070000e+04,\n",
       "        3.41880100e+06, 1.47008443e+08, 6.32136305e+09, 2.71818611e+11,\n",
       "        1.16882003e+13, 5.02592612e+14, 2.16114823e+16],\n",
       "       [1.00000000e+00, 4.40000000e+01, 1.93600000e+03, 8.51840000e+04,\n",
       "        3.74809600e+06, 1.64916224e+08, 7.25631386e+09, 3.19277810e+11,\n",
       "        1.40482236e+13, 6.18121840e+14, 2.71973609e+16],\n",
       "       [1.00000000e+00, 4.50000000e+01, 2.02500000e+03, 9.11250000e+04,\n",
       "        4.10062500e+06, 1.84528125e+08, 8.30376562e+09, 3.73669453e+11,\n",
       "        1.68151254e+13, 7.56680643e+14, 3.40506289e+16],\n",
       "       [1.00000000e+00, 4.60000000e+01, 2.11600000e+03, 9.73360000e+04,\n",
       "        4.47745600e+06, 2.05962976e+08, 9.47429690e+09, 4.35817657e+11,\n",
       "        2.00476122e+13, 9.22190163e+14, 4.24207475e+16],\n",
       "       [1.00000000e+00, 4.70000000e+01, 2.20900000e+03, 1.03823000e+05,\n",
       "        4.87968100e+06, 2.29345007e+08, 1.07792153e+10, 5.06623120e+11,\n",
       "        2.38112867e+13, 1.11913047e+15, 5.25991322e+16],\n",
       "       [1.00000000e+00, 4.80000000e+01, 2.30400000e+03, 1.10592000e+05,\n",
       "        5.30841600e+06, 2.54803968e+08, 1.22305905e+10, 5.87068342e+11,\n",
       "        2.81792804e+13, 1.35260546e+15, 6.49250621e+16],\n",
       "       [1.00000000e+00, 4.90000000e+01, 2.40100000e+03, 1.17649000e+05,\n",
       "        5.76480100e+06, 2.82475249e+08, 1.38412872e+10, 6.78223073e+11,\n",
       "        3.32329306e+13, 1.62841360e+15, 7.97922663e+16],\n",
       "       [1.00000000e+00, 5.00000000e+01, 2.50000000e+03, 1.25000000e+05,\n",
       "        6.25000000e+06, 3.12500000e+08, 1.56250000e+10, 7.81250000e+11,\n",
       "        3.90625000e+13, 1.95312500e+15, 9.76562500e+16],\n",
       "       [1.00000000e+00, 5.10000000e+01, 2.60100000e+03, 1.32651000e+05,\n",
       "        6.76520100e+06, 3.45025251e+08, 1.75962878e+10, 8.97410678e+11,\n",
       "        4.57679446e+13, 2.33416517e+15, 1.19042424e+17],\n",
       "       [1.00000000e+00, 5.20000000e+01, 2.70400000e+03, 1.40608000e+05,\n",
       "        7.31161600e+06, 3.80204032e+08, 1.97706097e+10, 1.02807170e+12,\n",
       "        5.34597285e+13, 2.77990588e+15, 1.44555106e+17],\n",
       "       [1.00000000e+00, 5.30000000e+01, 2.80900000e+03, 1.48877000e+05,\n",
       "        7.89048100e+06, 4.18195493e+08, 2.21643611e+10, 1.17471114e+12,\n",
       "        6.22596904e+13, 3.29976359e+15, 1.74887470e+17],\n",
       "       [1.00000000e+00, 5.40000000e+01, 2.91600000e+03, 1.57464000e+05,\n",
       "        8.50305600e+06, 4.59165024e+08, 2.47949113e+10, 1.33892521e+12,\n",
       "        7.23019613e+13, 3.90430591e+15, 2.10832519e+17],\n",
       "       [1.00000000e+00, 5.50000000e+01, 3.02500000e+03, 1.66375000e+05,\n",
       "        9.15062500e+06, 5.03284375e+08, 2.76806406e+10, 1.52243523e+12,\n",
       "        8.37339379e+13, 4.60536658e+15, 2.53295162e+17],\n",
       "       [1.00000000e+00, 5.60000000e+01, 3.13600000e+03, 1.75616000e+05,\n",
       "        9.83449600e+06, 5.50731776e+08, 3.08409795e+10, 1.72709485e+12,\n",
       "        9.67173116e+13, 5.41616945e+15, 3.03305489e+17],\n",
       "       [1.00000000e+00, 5.70000000e+01, 3.24900000e+03, 1.85193000e+05,\n",
       "        1.05560010e+07, 6.01692057e+08, 3.42964472e+10, 1.95489749e+12,\n",
       "        1.11429157e+14, 6.35146196e+15, 3.62033331e+17],\n",
       "       [1.00000000e+00, 5.80000000e+01, 3.36400000e+03, 1.95112000e+05,\n",
       "        1.13164960e+07, 6.56356768e+08, 3.80686925e+10, 2.20798417e+12,\n",
       "        1.28063082e+14, 7.42765874e+15, 4.30804207e+17],\n",
       "       [1.00000000e+00, 5.90000000e+01, 3.48100000e+03, 2.05379000e+05,\n",
       "        1.21173610e+07, 7.14924299e+08, 4.21805336e+10, 2.48865148e+12,\n",
       "        1.46830438e+14, 8.66299582e+15, 5.11116753e+17],\n",
       "       [1.00000000e+00, 6.00000000e+01, 3.60000000e+03, 2.16000000e+05,\n",
       "        1.29600000e+07, 7.77600000e+08, 4.66560000e+10, 2.79936000e+12,\n",
       "        1.67961600e+14, 1.00776960e+16, 6.04661760e+17],\n",
       "       [1.00000000e+00, 6.10000000e+01, 3.72100000e+03, 2.26981000e+05,\n",
       "        1.38458410e+07, 8.44596301e+08, 5.15203744e+10, 3.14274284e+12,\n",
       "        1.91707313e+14, 1.16941461e+16, 7.13342912e+17],\n",
       "       [1.00000000e+00, 6.20000000e+01, 3.84400000e+03, 2.38328000e+05,\n",
       "        1.47763360e+07, 9.16132832e+08, 5.68002356e+10, 3.52161461e+12,\n",
       "        2.18340106e+14, 1.35370865e+16, 8.39299366e+17],\n",
       "       [1.00000000e+00, 6.30000000e+01, 3.96900000e+03, 2.50047000e+05,\n",
       "        1.57529610e+07, 9.92436543e+08, 6.25235022e+10, 3.93898064e+12,\n",
       "        2.48155780e+14, 1.56338142e+16, 9.84930292e+17],\n",
       "       [1.00000000e+00, 6.40000000e+01, 4.09600000e+03, 2.62144000e+05,\n",
       "        1.67772160e+07, 1.07374182e+09, 6.87194767e+10, 4.39804651e+12,\n",
       "        2.81474977e+14, 1.80143985e+16, 1.15292150e+18],\n",
       "       [1.00000000e+00, 6.50000000e+01, 4.22500000e+03, 2.74625000e+05,\n",
       "        1.78506250e+07, 1.16029062e+09, 7.54188906e+10, 4.90222789e+12,\n",
       "        3.18644813e+14, 2.07119128e+16, 1.34627433e+18],\n",
       "       [1.00000000e+00, 6.60000000e+01, 4.35600000e+03, 2.87496000e+05,\n",
       "        1.89747360e+07, 1.25233258e+09, 8.26539500e+10, 5.45516070e+12,\n",
       "        3.60040606e+14, 2.37626800e+16, 1.56833688e+18],\n",
       "       [1.00000000e+00, 6.70000000e+01, 4.48900000e+03, 3.00763000e+05,\n",
       "        2.01511210e+07, 1.35012511e+09, 9.04583822e+10, 6.06071161e+12,\n",
       "        4.06067678e+14, 2.72065344e+16, 1.82283780e+18],\n",
       "       [1.00000000e+00, 6.80000000e+01, 4.62400000e+03, 3.14432000e+05,\n",
       "        2.13813760e+07, 1.45393357e+09, 9.88674826e+10, 6.72298882e+12,\n",
       "        4.57163240e+14, 3.10871003e+16, 2.11392282e+18],\n",
       "       [1.00000000e+00, 6.90000000e+01, 4.76100000e+03, 3.28509000e+05,\n",
       "        2.26671210e+07, 1.56403135e+09, 1.07918163e+11, 7.44635325e+12,\n",
       "        5.13798374e+14, 3.54520878e+16, 2.44619406e+18],\n",
       "       [1.00000000e+00, 7.00000000e+01, 4.90000000e+03, 3.43000000e+05,\n",
       "        2.40100000e+07, 1.68070000e+09, 1.17649000e+11, 8.23543000e+12,\n",
       "        5.76480100e+14, 4.03536070e+16, 2.82475249e+18],\n",
       "       [1.00000000e+00, 7.10000000e+01, 5.04100000e+03, 3.57911000e+05,\n",
       "        2.54116810e+07, 1.80422935e+09, 1.28100284e+11, 9.09512016e+12,\n",
       "        6.45753531e+14, 4.58485007e+16, 3.25524355e+18],\n",
       "       [1.00000000e+00, 7.20000000e+01, 5.18400000e+03, 3.73248000e+05,\n",
       "        2.68738560e+07, 1.93491763e+09, 1.39314070e+11, 1.00306130e+13,\n",
       "        7.22204136e+14, 5.19986978e+16, 3.74390624e+18],\n",
       "       [1.00000000e+00, 7.30000000e+01, 5.32900000e+03, 3.89017000e+05,\n",
       "        2.83982410e+07, 2.07307159e+09, 1.51334226e+11, 1.10473985e+13,\n",
       "        8.06460092e+14, 5.88715867e+16, 4.29762583e+18],\n",
       "       [1.00000000e+00, 7.40000000e+01, 5.47600000e+03, 4.05224000e+05,\n",
       "        2.99865760e+07, 2.21900662e+09, 1.64206490e+11, 1.21512803e+13,\n",
       "        8.99194740e+14, 6.65404108e+16, 4.92399040e+18],\n",
       "       [1.00000000e+00, 7.50000000e+01, 5.62500000e+03, 4.21875000e+05,\n",
       "        3.16406250e+07, 2.37304688e+09, 1.77978516e+11, 1.33483887e+13,\n",
       "        1.00112915e+15, 7.50846863e+16, 5.63135147e+18],\n",
       "       [1.00000000e+00, 7.60000000e+01, 5.77600000e+03, 4.38976000e+05,\n",
       "        3.33621760e+07, 2.53552538e+09, 1.92699929e+11, 1.46451946e+13,\n",
       "        1.11303479e+15, 8.45906438e+16, 6.42888893e+18],\n",
       "       [1.00000000e+00, 7.70000000e+01, 5.92900000e+03, 4.56533000e+05,\n",
       "        3.51530410e+07, 2.70678416e+09, 2.08422380e+11, 1.60485233e+13,\n",
       "        1.23573629e+15, 9.51516944e+16, 7.32668047e+18],\n",
       "       [1.00000000e+00, 7.80000000e+01, 6.08400000e+03, 4.74552000e+05,\n",
       "        3.70150560e+07, 2.88717437e+09, 2.25199601e+11, 1.75655689e+13,\n",
       "        1.37011437e+15, 1.06868921e+17, 8.33577583e+18],\n",
       "       [1.00000000e+00, 7.90000000e+01, 6.24100000e+03, 4.93039000e+05,\n",
       "        3.89500810e+07, 3.07705640e+09, 2.43087456e+11, 1.92039090e+13,\n",
       "        1.51710881e+15, 1.19851596e+17, 9.46827608e+18],\n",
       "       [1.00000000e+00, 8.00000000e+01, 6.40000000e+03, 5.12000000e+05,\n",
       "        4.09600000e+07, 3.27680000e+09, 2.62144000e+11, 2.09715200e+13,\n",
       "        1.67772160e+15, 1.34217728e+17, 1.07374182e+19]])"
      ]
     },
     "execution_count": 58,
     "metadata": {},
     "output_type": "execute_result"
    }
   ],
   "source": [
    "poly=PolynomialFeatures(degree=10)\n",
    "x_poly=poly.fit_transform(x)\n",
    "x_poly"
   ]
  },
  {
   "cell_type": "code",
   "execution_count": 59,
   "id": "833eb10c",
   "metadata": {},
   "outputs": [
    {
     "data": {
      "text/plain": [
       "LinearRegression()"
      ]
     },
     "execution_count": 59,
     "metadata": {},
     "output_type": "execute_result"
    }
   ],
   "source": [
    "L2=LinearRegression()\n",
    "L2.fit(x_poly,y)"
   ]
  },
  {
   "cell_type": "code",
   "execution_count": 60,
   "id": "9f3ac495",
   "metadata": {},
   "outputs": [
    {
     "data": {
      "image/png": "[encoded data removed]",
      "text/plain": [
       "<Figure size 640x480 with 1 Axes>"
      ]
     },
     "metadata": {},
     "output_type": "display_data"
    }
   ],
   "source": [
    "plt.scatter(x,y,color='yellow')\n",
    "plt.plot(x,L2.predict(x_poly),color='green')\n",
    "plt.title('Polynomial Model')\n",
    "plt.xlabel('Age')\n",
    "plt.ylabel('Height')\n",
    "plt.show()"
   ]
  },
  {
   "cell_type": "markdown",
   "id": "b9e414b7",
   "metadata": {},
   "source": [
    "## Loop: "
   ]
  },
  {
   "cell_type": "code",
   "execution_count": 47,
   "id": "c9760d5b",
   "metadata": {},
   "outputs": [
    {
     "name": "stdout",
     "output_type": "stream",
     "text": [
      "for power 1\n",
      "score: 0.8934572779825734\n",
      "for power 2\n",
      "score: 0.9907329878458319\n",
      "for power 3\n",
      "score: 0.9964453832495354\n",
      "for power 4\n",
      "score: 0.9964940671262937\n",
      "for power 5\n",
      "score: 0.9967154311086419\n",
      "for power 6\n",
      "score: 0.9979407100264435\n",
      "for power 7\n",
      "score: 0.999241644636097\n",
      "for power 8\n",
      "score: 0.9994056772328931\n",
      "for power 9\n",
      "score: 0.999381149877861\n",
      "for power 10\n",
      "score: 0.9994254383404982\n",
      "for power 11\n",
      "score: 0.9995575814203432\n",
      "for power 12\n",
      "score: 0.9982140069150423\n",
      "for power 13\n",
      "score: 0.9976862879869994\n",
      "for power 14\n",
      "score: 0.9970442726285479\n"
     ]
    }
   ],
   "source": [
    "from sklearn.metrics import r2_score\n",
    "for i in range(1,15):\n",
    "    poly=PolynomialFeatures(degree=i)\n",
    "    x_poly=poly.fit_transform(x)\n",
    "    \n",
    "    L2=LinearRegression()\n",
    "    L2.fit(x_poly,y)\n",
    "    \n",
    "    print('for power %d' %i)\n",
    "    print('score:',r2_score(y,L2.predict(x_poly)))\n"
   ]
  },
  {
   "cell_type": "code",
   "execution_count": null,
   "id": "a07fef6d",
   "metadata": {},
   "outputs": [],
   "source": []
  }
 ],
 "metadata": {
  "kernelspec": {
   "display_name": "Python 3 (ipykernel)",
   "language": "python",
   "name": "python3"
  },
  "language_info": {
   "codemirror_mode": {
    "name": "ipython",
    "version": 3
   },
   "file_extension": ".py",
   "mimetype": "text/x-python",
   "name": "python",
   "nbconvert_exporter": "python",
   "pygments_lexer": "ipython3",
   "version": "3.9.13"
  }
 },
 "nbformat": 4,
 "nbformat_minor": 5
}
