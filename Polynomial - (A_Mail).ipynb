{
 "cells": [
  {
   "cell_type": "code",
   "execution_count": 1,
   "id": "b264ece6",
   "metadata": {},
   "outputs": [],
   "source": [
    "import numpy as np\n",
    "import pandas as pd\n",
    "import matplotlib.pyplot as plt"
   ]
  },
  {
   "cell_type": "code",
   "execution_count": 2,
   "id": "5d34a910",
   "metadata": {},
   "outputs": [
    {
     "data": {
      "text/html": [
       "<div>\n",
       "<style scoped>\n",
       "    .dataframe tbody tr th:only-of-type {\n",
       "        vertical-align: middle;\n",
       "    }\n",
       "\n",
       "    .dataframe tbody tr th {\n",
       "        vertical-align: top;\n",
       "    }\n",
       "\n",
       "    .dataframe thead th {\n",
       "        text-align: right;\n",
       "    }\n",
       "</style>\n",
       "<table border=\"1\" class=\"dataframe\">\n",
       "  <thead>\n",
       "    <tr style=\"text-align: right;\">\n",
       "      <th></th>\n",
       "      <th>araba_fiyat</th>\n",
       "      <th>araba_max_hiz</th>\n",
       "    </tr>\n",
       "  </thead>\n",
       "  <tbody>\n",
       "    <tr>\n",
       "      <th>0</th>\n",
       "      <td>60</td>\n",
       "      <td>180</td>\n",
       "    </tr>\n",
       "    <tr>\n",
       "      <th>1</th>\n",
       "      <td>70</td>\n",
       "      <td>180</td>\n",
       "    </tr>\n",
       "    <tr>\n",
       "      <th>2</th>\n",
       "      <td>80</td>\n",
       "      <td>200</td>\n",
       "    </tr>\n",
       "    <tr>\n",
       "      <th>3</th>\n",
       "      <td>100</td>\n",
       "      <td>200</td>\n",
       "    </tr>\n",
       "    <tr>\n",
       "      <th>4</th>\n",
       "      <td>120</td>\n",
       "      <td>200</td>\n",
       "    </tr>\n",
       "    <tr>\n",
       "      <th>5</th>\n",
       "      <td>150</td>\n",
       "      <td>220</td>\n",
       "    </tr>\n",
       "    <tr>\n",
       "      <th>6</th>\n",
       "      <td>200</td>\n",
       "      <td>240</td>\n",
       "    </tr>\n",
       "    <tr>\n",
       "      <th>7</th>\n",
       "      <td>250</td>\n",
       "      <td>240</td>\n",
       "    </tr>\n",
       "    <tr>\n",
       "      <th>8</th>\n",
       "      <td>300</td>\n",
       "      <td>300</td>\n",
       "    </tr>\n",
       "    <tr>\n",
       "      <th>9</th>\n",
       "      <td>400</td>\n",
       "      <td>350</td>\n",
       "    </tr>\n",
       "    <tr>\n",
       "      <th>10</th>\n",
       "      <td>500</td>\n",
       "      <td>350</td>\n",
       "    </tr>\n",
       "    <tr>\n",
       "      <th>11</th>\n",
       "      <td>750</td>\n",
       "      <td>360</td>\n",
       "    </tr>\n",
       "    <tr>\n",
       "      <th>12</th>\n",
       "      <td>1000</td>\n",
       "      <td>365</td>\n",
       "    </tr>\n",
       "    <tr>\n",
       "      <th>13</th>\n",
       "      <td>2000</td>\n",
       "      <td>365</td>\n",
       "    </tr>\n",
       "    <tr>\n",
       "      <th>14</th>\n",
       "      <td>3000</td>\n",
       "      <td>365</td>\n",
       "    </tr>\n",
       "  </tbody>\n",
       "</table>\n",
       "</div>"
      ],
      "text/plain": [
       "    araba_fiyat  araba_max_hiz\n",
       "0            60            180\n",
       "1            70            180\n",
       "2            80            200\n",
       "3           100            200\n",
       "4           120            200\n",
       "5           150            220\n",
       "6           200            240\n",
       "7           250            240\n",
       "8           300            300\n",
       "9           400            350\n",
       "10          500            350\n",
       "11          750            360\n",
       "12         1000            365\n",
       "13         2000            365\n",
       "14         3000            365"
      ]
     },
     "execution_count": 2,
     "metadata": {},
     "output_type": "execute_result"
    }
   ],
   "source": [
    "df=pd.read_csv('A_Mail.csv')\n",
    "df"
   ]
  },
  {
   "cell_type": "code",
   "execution_count": 3,
   "id": "571d4808",
   "metadata": {},
   "outputs": [
    {
     "data": {
      "text/plain": [
       "array([[  60],\n",
       "       [  70],\n",
       "       [  80],\n",
       "       [ 100],\n",
       "       [ 120],\n",
       "       [ 150],\n",
       "       [ 200],\n",
       "       [ 250],\n",
       "       [ 300],\n",
       "       [ 400],\n",
       "       [ 500],\n",
       "       [ 750],\n",
       "       [1000],\n",
       "       [2000],\n",
       "       [3000]], dtype=int64)"
      ]
     },
     "execution_count": 3,
     "metadata": {},
     "output_type": "execute_result"
    }
   ],
   "source": [
    "x=df.iloc[:,:1].values\n",
    "x"
   ]
  },
  {
   "cell_type": "code",
   "execution_count": 4,
   "id": "229adcd9",
   "metadata": {},
   "outputs": [
    {
     "data": {
      "text/plain": [
       "array([180, 180, 200, 200, 200, 220, 240, 240, 300, 350, 350, 360, 365,\n",
       "       365, 365], dtype=int64)"
      ]
     },
     "execution_count": 4,
     "metadata": {},
     "output_type": "execute_result"
    }
   ],
   "source": [
    "y=df.iloc[:,-1].values\n",
    "y"
   ]
  },
  {
   "cell_type": "code",
   "execution_count": 5,
   "id": "4664cf90",
   "metadata": {},
   "outputs": [],
   "source": [
    "from sklearn.linear_model import LinearRegression"
   ]
  },
  {
   "cell_type": "code",
   "execution_count": 6,
   "id": "ea57cb64",
   "metadata": {},
   "outputs": [
    {
     "data": {
      "text/plain": [
       "LinearRegression()"
      ]
     },
     "execution_count": 6,
     "metadata": {},
     "output_type": "execute_result"
    }
   ],
   "source": [
    "L=LinearRegression()\n",
    "L.fit(x,y)"
   ]
  },
  {
   "cell_type": "code",
   "execution_count": 7,
   "id": "57ff660f",
   "metadata": {},
   "outputs": [
    {
     "data": {
      "image/png": "[encoded data removed]",
      "text/plain": [
       "<Figure size 640x480 with 1 Axes>"
      ]
     },
     "metadata": {},
     "output_type": "display_data"
    }
   ],
   "source": [
    "plt.scatter(x,y,color='red')\n",
    "plt.plot(x,L.predict(x),color='blue')\n",
    "plt.title('linear model')\n",
    "plt.xlabel('fiyat')\n",
    "plt.ylabel('max_hiz')\n",
    "plt.show()"
   ]
  },
  {
   "cell_type": "code",
   "execution_count": 8,
   "id": "15704809",
   "metadata": {},
   "outputs": [
    {
     "data": {
      "text/plain": [
       "array([240.7435423])"
      ]
     },
     "execution_count": 8,
     "metadata": {},
     "output_type": "execute_result"
    }
   ],
   "source": [
    "L.predict([[70]])"
   ]
  },
  {
   "cell_type": "code",
   "execution_count": 9,
   "id": "5dddb24f",
   "metadata": {},
   "outputs": [],
   "source": [
    "from sklearn.preprocessing import PolynomialFeatures"
   ]
  },
  {
   "cell_type": "code",
   "execution_count": 10,
   "id": "50767cd6",
   "metadata": {},
   "outputs": [
    {
     "data": {
      "text/plain": [
       "array([[1.0000000e+00, 6.0000000e+01, 3.6000000e+03, 2.1600000e+05,\n",
       "        1.2960000e+07],\n",
       "       [1.0000000e+00, 7.0000000e+01, 4.9000000e+03, 3.4300000e+05,\n",
       "        2.4010000e+07],\n",
       "       [1.0000000e+00, 8.0000000e+01, 6.4000000e+03, 5.1200000e+05,\n",
       "        4.0960000e+07],\n",
       "       [1.0000000e+00, 1.0000000e+02, 1.0000000e+04, 1.0000000e+06,\n",
       "        1.0000000e+08],\n",
       "       [1.0000000e+00, 1.2000000e+02, 1.4400000e+04, 1.7280000e+06,\n",
       "        2.0736000e+08],\n",
       "       [1.0000000e+00, 1.5000000e+02, 2.2500000e+04, 3.3750000e+06,\n",
       "        5.0625000e+08],\n",
       "       [1.0000000e+00, 2.0000000e+02, 4.0000000e+04, 8.0000000e+06,\n",
       "        1.6000000e+09],\n",
       "       [1.0000000e+00, 2.5000000e+02, 6.2500000e+04, 1.5625000e+07,\n",
       "        3.9062500e+09],\n",
       "       [1.0000000e+00, 3.0000000e+02, 9.0000000e+04, 2.7000000e+07,\n",
       "        8.1000000e+09],\n",
       "       [1.0000000e+00, 4.0000000e+02, 1.6000000e+05, 6.4000000e+07,\n",
       "        2.5600000e+10],\n",
       "       [1.0000000e+00, 5.0000000e+02, 2.5000000e+05, 1.2500000e+08,\n",
       "        6.2500000e+10],\n",
       "       [1.0000000e+00, 7.5000000e+02, 5.6250000e+05, 4.2187500e+08,\n",
       "        3.1640625e+11],\n",
       "       [1.0000000e+00, 1.0000000e+03, 1.0000000e+06, 1.0000000e+09,\n",
       "        1.0000000e+12],\n",
       "       [1.0000000e+00, 2.0000000e+03, 4.0000000e+06, 8.0000000e+09,\n",
       "        1.6000000e+13],\n",
       "       [1.0000000e+00, 3.0000000e+03, 9.0000000e+06, 2.7000000e+10,\n",
       "        8.1000000e+13]])"
      ]
     },
     "execution_count": 10,
     "metadata": {},
     "output_type": "execute_result"
    }
   ],
   "source": [
    "poly=PolynomialFeatures(degree=4)\n",
    "x_poly=poly.fit_transform(x)\n",
    "x_poly"
   ]
  },
  {
   "cell_type": "code",
   "execution_count": 11,
   "id": "812a7545",
   "metadata": {},
   "outputs": [
    {
     "data": {
      "text/plain": [
       "PolynomialFeatures(degree=4)"
      ]
     },
     "execution_count": 11,
     "metadata": {},
     "output_type": "execute_result"
    }
   ],
   "source": [
    "poly.fit(x_poly,y)"
   ]
  },
  {
   "cell_type": "code",
   "execution_count": 12,
   "id": "89181a5a",
   "metadata": {},
   "outputs": [
    {
     "data": {
      "text/plain": [
       "LinearRegression()"
      ]
     },
     "execution_count": 12,
     "metadata": {},
     "output_type": "execute_result"
    }
   ],
   "source": [
    "L2=LinearRegression()\n",
    "L2.fit(x_poly,y)"
   ]
  },
  {
   "cell_type": "code",
   "execution_count": 13,
   "id": "34ac3cde",
   "metadata": {},
   "outputs": [
    {
     "data": {
      "image/png": "[encoded data removed]",
      "text/plain": [
       "<Figure size 640x480 with 1 Axes>"
      ]
     },
     "metadata": {},
     "output_type": "display_data"
    }
   ],
   "source": [
    "plt.scatter(x,y,color='red')\n",
    "plt.plot(x,L2.predict(x_poly),color='blue')\n",
    "plt.title('Polynomial Model')\n",
    "plt.xlabel('fiyat')\n",
    "plt.ylabel('max_hiz')\n",
    "plt.show()"
   ]
  },
  {
   "cell_type": "code",
   "execution_count": 14,
   "id": "a8e94275",
   "metadata": {},
   "outputs": [
    {
     "data": {
      "text/plain": [
       "array([179.01970848])"
      ]
     },
     "execution_count": 14,
     "metadata": {},
     "output_type": "execute_result"
    }
   ],
   "source": [
    "L2.predict(poly.fit_transform([[70]]))"
   ]
  },
  {
   "cell_type": "code",
   "execution_count": 15,
   "id": "c7783cba",
   "metadata": {},
   "outputs": [
    {
     "name": "stdout",
     "output_type": "stream",
     "text": [
      "for power 1\n",
      "score: 0.4745823761330058\n",
      "for power 2\n",
      "score: 0.8108809987399099\n",
      "for power 3\n",
      "score: 0.944249822080344\n",
      "for power 4\n",
      "score: 0.9694743023211566\n",
      "for power 5\n",
      "score: 0.963129360646712\n",
      "for power 6\n",
      "score: 0.8686984566962597\n",
      "for power 7\n",
      "score: 0.7551352591700704\n",
      "for power 8\n",
      "score: 0.668936169439672\n",
      "for power 9\n",
      "score: 0.6135621553707311\n",
      "for power 10\n",
      "score: 0.5793364607039635\n",
      "for power 11\n",
      "score: 0.40013235932392255\n",
      "for power 12\n",
      "score: 0.39176687356337603\n",
      "for power 13\n",
      "score: 0.38564317488473754\n",
      "for power 14\n",
      "score: 0.3811255779105266\n",
      "for power 15\n",
      "score: 0.37777556020891456\n",
      "for power 16\n",
      "score: 0.3752826616451783\n",
      "for power 17\n",
      "score: 0.37342314814686484\n",
      "for power 18\n",
      "score: 0.37203368403783943\n",
      "for power 19\n",
      "score: 0.37099391079806243\n",
      "for power 20\n",
      "score: 0.22639438621342478\n",
      "for power 21\n",
      "score: 0.2263938852973244\n",
      "for power 22\n",
      "score: 0.22639363516721556\n",
      "for power 23\n",
      "score: 0.22639351022614274\n",
      "for power 24\n",
      "score: 0.22639344780243675\n",
      "for power 25\n",
      "score: 0.22639341660825885\n",
      "for power 26\n",
      "score: 0.226393401017836\n",
      "for power 27\n",
      "score: 0.22639339322513674\n",
      "for power 28\n",
      "score: 0.22639338932973385\n",
      "for power 29\n",
      "score: 0.22639338738238846\n",
      "for power 30\n",
      "score: 0.2263933864088501\n",
      "for power 31\n",
      "score: 0.22639338592213132\n",
      "for power 32\n",
      "score: 0.22639338567879075\n",
      "for power 33\n",
      "score: 0.22639338555712785\n",
      "for power 34\n",
      "score: 0.22639338549629884\n",
      "for power 35\n",
      "score: 0.2263933854658854\n",
      "for power 36\n",
      "score: 0.226393385450679\n",
      "for power 37\n",
      "score: 0.22639338544307608\n",
      "for power 38\n",
      "score: 0.22639338543927467\n",
      "for power 39\n",
      "score: 0.22639338543737386\n",
      "for power 40\n",
      "score: 0.2263933854364235\n",
      "for power 41\n",
      "score: 0.22639338543594834\n",
      "for power 42\n",
      "score: 0.22639338543571075\n",
      "for power 43\n",
      "score: 0.22639338543559195\n",
      "for power 44\n",
      "score: 0.22639338543553256\n",
      "for power 45\n",
      "score: 0.22639338543550291\n",
      "for power 46\n",
      "score: 0.22639338543548804\n",
      "for power 47\n",
      "score: 0.22639338543547993\n",
      "for power 48\n",
      "score: 0.22639338543545118\n",
      "for power 49\n",
      "score: 0.22639338543518428\n",
      "for power 50\n",
      "score: 0.226393385435412\n",
      "for power 51\n",
      "score: 0.22639338542629872\n",
      "for power 52\n",
      "score: 0.22639338543546006\n",
      "for power 53\n",
      "score: 0.22639338543522225\n",
      "for power 54\n",
      "score: 0.22639338543546328\n",
      "for power 55\n",
      "score: 0.22639338497678618\n",
      "for power 56\n",
      "score: 0.22639338543365306\n",
      "for power 57\n",
      "score: 0.22639338543292598\n",
      "for power 58\n",
      "score: 0.08644921479162948\n",
      "for power 59\n",
      "score: 0.08645700955140068\n",
      "for power 60\n",
      "score: 0.08637667322104703\n",
      "for power 61\n",
      "score: 0.08645830621960193\n",
      "for power 62\n",
      "score: 0.08645068551292712\n",
      "for power 63\n",
      "score: 0.0864494303230392\n",
      "for power 64\n",
      "score: 0.08607119451961409\n",
      "for power 65\n",
      "score: 0.07747300188106632\n",
      "for power 66\n",
      "score: 0.08641796052165485\n",
      "for power 67\n",
      "score: 0.0831444123439069\n",
      "for power 68\n",
      "score: 0.10511121466670881\n",
      "for power 69\n",
      "score: 0.1051112146666291\n"
     ]
    }
   ],
   "source": [
    "from sklearn.metrics import r2_score\n",
    "for i in range(1,70):\n",
    "    poly=PolynomialFeatures(degree=i)\n",
    "    x_poly=poly.fit_transform(x)\n",
    "    \n",
    "    L2=LinearRegression()\n",
    "    L2.fit(x_poly,y)\n",
    "    print('for power %d' %i)\n",
    "    print('score:',r2_score(y,L2.predict(x_poly)))"
   ]
  },
  {
   "cell_type": "code",
   "execution_count": null,
   "id": "822ff935",
   "metadata": {},
   "outputs": [],
   "source": []
  }
 ],
 "metadata": {
  "kernelspec": {
   "display_name": "Python 3 (ipykernel)",
   "language": "python",
   "name": "python3"
  },
  "language_info": {
   "codemirror_mode": {
    "name": "ipython",
    "version": 3
   },
   "file_extension": ".py",
   "mimetype": "text/x-python",
   "name": "python",
   "nbconvert_exporter": "python",
   "pygments_lexer": "ipython3",
   "version": "3.9.13"
  }
 },
 "nbformat": 4,
 "nbformat_minor": 5
}
